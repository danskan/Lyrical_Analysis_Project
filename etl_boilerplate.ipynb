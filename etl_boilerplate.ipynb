{
  "nbformat": 4,
  "nbformat_minor": 0,
  "metadata": {
    "colab": {
      "name": "Copy of etl_boilerplate",
      "provenance": [],
      "collapsed_sections": []
    },
    "kernelspec": {
      "name": "python3",
      "display_name": "Python 3"
    },
    "language_info": {
      "name": "python"
    }
  },
  "cells": [
    {
      "cell_type": "code",
      "execution_count": 1,
      "metadata": {
        "id": "GemGw7e-TkZr",
        "colab": {
          "base_uri": "https://localhost:8080/"
        },
        "outputId": "2c4ce62e-fdd1-4d92-87c8-d2e00cfe276d"
      },
      "outputs": [
        {
          "output_type": "stream",
          "name": "stdout",
          "text": [
            "\r0% [Working]\r            \rHit:1 https://developer.download.nvidia.com/compute/cuda/repos/ubuntu1804/x86_64  InRelease\n",
            "\r0% [Connecting to archive.ubuntu.com (185.125.190.36)] [Waiting for headers] [C\r0% [1 InRelease gpgv 1,581 B] [Connecting to archive.ubuntu.com (185.125.190.36\r                                                                               \rIgn:2 https://developer.download.nvidia.com/compute/machine-learning/repos/ubuntu1804/x86_64  InRelease\n",
            "Hit:3 https://developer.download.nvidia.com/compute/machine-learning/repos/ubuntu1804/x86_64  Release\n",
            "Hit:4 http://security.ubuntu.com/ubuntu bionic-security InRelease\n",
            "Hit:5 https://cloud.r-project.org/bin/linux/ubuntu bionic-cran40/ InRelease\n",
            "Hit:6 http://archive.ubuntu.com/ubuntu bionic InRelease\n",
            "Hit:7 http://ppa.launchpad.net/c2d4u.team/c2d4u4.0+/ubuntu bionic InRelease\n",
            "Hit:8 http://archive.ubuntu.com/ubuntu bionic-updates InRelease\n",
            "Hit:9 http://archive.ubuntu.com/ubuntu bionic-backports InRelease\n",
            "Hit:10 http://ppa.launchpad.net/cran/libgit2/ubuntu bionic InRelease\n",
            "Hit:12 http://ppa.launchpad.net/deadsnakes/ppa/ubuntu bionic InRelease\n",
            "Hit:13 http://ppa.launchpad.net/graphics-drivers/ppa/ubuntu bionic InRelease\n",
            "Reading package lists... Done\n"
          ]
        }
      ],
      "source": [
        "import os\n",
        "# Find the latest version of spark 3.0  from http://www.apache.org/dist/spark/ and enter as the spark version\n",
        "# For example:\n",
        "# spark_version = 'spark-3.0.3'\n",
        "spark_version = 'spark-3.2.1'\n",
        "os.environ['SPARK_VERSION']=spark_version\n",
        "\n",
        "# Install Spark and Java\n",
        "!apt-get update\n",
        "!apt-get install openjdk-8-jdk-headless -qq > /dev/null\n",
        "!wget -q http://www.apache.org/dist/spark/$SPARK_VERSION/$SPARK_VERSION-bin-hadoop2.7.tgz\n",
        "!tar xf $SPARK_VERSION-bin-hadoop2.7.tgz\n",
        "!pip install -q findspark\n",
        "\n",
        "# Set Environment Variables\n",
        "os.environ[\"JAVA_HOME\"] = \"/usr/lib/jvm/java-8-openjdk-amd64\"\n",
        "os.environ[\"SPARK_HOME\"] = f\"/content/{spark_version}-bin-hadoop2.7\"\n",
        "\n",
        "# Start a SparkSession\n",
        "import findspark\n",
        "findspark.init()"
      ]
    },
    {
      "cell_type": "code",
      "source": [
        "!wget https://jdbc.postgresql.org/download/postgresql-42.2.9.jar"
      ],
      "metadata": {
        "id": "rjI72A-HTsQo",
        "colab": {
          "base_uri": "https://localhost:8080/"
        },
        "outputId": "d006ba42-8b72-405c-ef62-ecf4ef570394"
      },
      "execution_count": 2,
      "outputs": [
        {
          "output_type": "stream",
          "name": "stdout",
          "text": [
            "--2022-05-28 13:46:22--  https://jdbc.postgresql.org/download/postgresql-42.2.9.jar\n",
            "Resolving jdbc.postgresql.org (jdbc.postgresql.org)... 72.32.157.228, 2001:4800:3e1:1::228\n",
            "Connecting to jdbc.postgresql.org (jdbc.postgresql.org)|72.32.157.228|:443... connected.\n",
            "HTTP request sent, awaiting response... 200 OK\n",
            "Length: 914037 (893K) [application/java-archive]\n",
            "Saving to: ‘postgresql-42.2.9.jar.1’\n",
            "\n",
            "postgresql-42.2.9.j 100%[===================>] 892.61K  5.59MB/s    in 0.2s    \n",
            "\n",
            "2022-05-28 13:46:22 (5.59 MB/s) - ‘postgresql-42.2.9.jar.1’ saved [914037/914037]\n",
            "\n"
          ]
        }
      ]
    },
    {
      "cell_type": "code",
      "source": [
        "from pyspark.sql import SparkSession\n",
        "spark = SparkSession.builder.appName(\"CloudETL\").config(\"spark.driver.extraClassPath\",\"/content/postgresql-42.2.9.jar\").getOrCreate()"
      ],
      "metadata": {
        "id": "RJNPwlC4TuMx"
      },
      "execution_count": 3,
      "outputs": []
    },
    {
      "cell_type": "code",
      "source": [
        "# Read in data from S3 Buckets\n",
        "from pyspark import SparkFiles\n",
        "url=\"https://lyricanalytics.s3.amazonaws.com/EminemWordBankTop10.csv\"\n",
        "spark.sparkContext.addFile(url)\n",
        "df = spark.read.option('header', 'true').csv(SparkFiles.get('EminemWordBankTop10.csv'), inferSchema=True, sep=',')\n",
        "# Show DataFrame\n",
        "df.show()"
      ],
      "metadata": {
        "id": "hZLqCnr2TuwI",
        "colab": {
          "base_uri": "https://localhost:8080/"
        },
        "outputId": "17bcf14f-9cc4-4750-a32e-828bc5f12795"
      },
      "execution_count": 12,
      "outputs": [
        {
          "output_type": "stream",
          "name": "stdout",
          "text": [
            "+------------+-------------------+----------+\n",
            "|    key_word|             TF-IDF|albumIndex|\n",
            "+------------+-------------------+----------+\n",
            "|         pee|  0.663151071321805|      1302|\n",
            "|         ass|0.24276229949196215|      1302|\n",
            "|        jams|0.22131638313754323|      1302|\n",
            "|       nelly|0.19041670456561902|      1302|\n",
            "|        move|0.18729098654674628|      1302|\n",
            "|        seen|0.17909302993093332|      1302|\n",
            "|     believe|0.17015806907927983|      1302|\n",
            "|         way|0.16535503826559103|      1302|\n",
            "|      dancer|0.16107534772073087|      1302|\n",
            "|       belly| 0.1537129514539965|      1302|\n",
            "|        love|0.22700268378222752|      1492|\n",
            "|resuscitates|0.22588261034863172|      1492|\n",
            "|    windpipe|0.22588261034863172|      1492|\n",
            "|       right| 0.2254406671262595|      1492|\n",
            "|     huffing|0.21567538329032365|      1492|\n",
            "|       feels|0.19982533679119044|      1492|\n",
            "|   suffocate|0.19822601338075793|      1492|\n",
            "|         lie|0.19687247667064958|      1492|\n",
            "|     alright|0.19655482111303374|      1492|\n",
            "|       fight|0.19608206422296962|      1492|\n",
            "+------------+-------------------+----------+\n",
            "only showing top 20 rows\n",
            "\n"
          ]
        }
      ]
    },
    {
      "cell_type": "code",
      "source": [
        "df2 = df.withColumnRenamed('TF-IDF','tf_idf')\n",
        "df2.show()"
      ],
      "metadata": {
        "colab": {
          "base_uri": "https://localhost:8080/"
        },
        "id": "aFtQXfzY3pPu",
        "outputId": "a41ee1d2-2b95-4e19-d7ca-9b82624e4b49"
      },
      "execution_count": 13,
      "outputs": [
        {
          "output_type": "stream",
          "name": "stdout",
          "text": [
            "+------------+-------------------+----------+\n",
            "|    key_word|             tf_idf|albumIndex|\n",
            "+------------+-------------------+----------+\n",
            "|         pee|  0.663151071321805|      1302|\n",
            "|         ass|0.24276229949196215|      1302|\n",
            "|        jams|0.22131638313754323|      1302|\n",
            "|       nelly|0.19041670456561902|      1302|\n",
            "|        move|0.18729098654674628|      1302|\n",
            "|        seen|0.17909302993093332|      1302|\n",
            "|     believe|0.17015806907927983|      1302|\n",
            "|         way|0.16535503826559103|      1302|\n",
            "|      dancer|0.16107534772073087|      1302|\n",
            "|       belly| 0.1537129514539965|      1302|\n",
            "|        love|0.22700268378222752|      1492|\n",
            "|resuscitates|0.22588261034863172|      1492|\n",
            "|    windpipe|0.22588261034863172|      1492|\n",
            "|       right| 0.2254406671262595|      1492|\n",
            "|     huffing|0.21567538329032365|      1492|\n",
            "|       feels|0.19982533679119044|      1492|\n",
            "|   suffocate|0.19822601338075793|      1492|\n",
            "|         lie|0.19687247667064958|      1492|\n",
            "|     alright|0.19655482111303374|      1492|\n",
            "|       fight|0.19608206422296962|      1492|\n",
            "+------------+-------------------+----------+\n",
            "only showing top 20 rows\n",
            "\n"
          ]
        }
      ]
    },
    {
      "cell_type": "code",
      "source": [
        "# Configure settings for RDS\n",
        "mode = \"append\"\n",
        "jdbc_url=\"jdbc:postgresql://lyrical-analysis.cxe3nmyieexj.us-east-1.rds.amazonaws.com:5432/musicalDbanalytics\"\n",
        "config = {\"user\":\"<user>\", \n",
        "          \"password\": \"<password>\", \n",
        "          \"driver\":\"org.postgresql.Driver\"}"
      ],
      "metadata": {
        "id": "K6lKaDg2Twod"
      },
      "execution_count": 14,
      "outputs": []
    },
    {
      "cell_type": "code",
      "source": [
        "df2.write.jdbc(url=jdbc_url, table='eminemtoptenwords', mode=mode, properties=config)"
      ],
      "metadata": {
        "id": "MjtFmwyq35D4"
      },
      "execution_count": 15,
      "outputs": []
    }
  ]
}