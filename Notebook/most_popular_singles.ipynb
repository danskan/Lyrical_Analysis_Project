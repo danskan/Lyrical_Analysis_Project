{
  "cells": [
    {
      "cell_type": "code",
      "execution_count": 216,
      "metadata": {
        "id": "1mi7k1wAhbVe"
      },
      "outputs": [],
      "source": [
        "# Dependencies\n",
        "from bs4 import BeautifulSoup\n",
        "import requests\n",
        "import pandas as pd"
      ]
    },
    {
      "cell_type": "code",
      "execution_count": 217,
      "metadata": {
        "colab": {
          "base_uri": "https://localhost:8080/"
        },
        "id": "ZPCCmigrRv9u",
        "outputId": "3840050b-4ff8-49ca-d2d3-541738005a41"
      },
      "outputs": [
        {
          "output_type": "stream",
          "name": "stdout",
          "text": [
            "200\n"
          ]
        }
      ],
      "source": [
        "# request for the html response using the url for wikipedia\n",
        "# to scrape the page to see if we get value 200 in return, confirming acceptable to utilize page info\n",
        "\n",
        "url=\"https://en.wikipedia.org/wiki/List_of_best-selling_singles_in_the_United_States\"\n",
        "response = requests.get(url)\n",
        "table_class=\"wikitable sortable plainrowheaders jquery-tablesorter\"\n",
        "response=requests.get(url)\n",
        "print(response.status_code)"
      ]
    },
    {
      "cell_type": "code",
      "execution_count": 218,
      "metadata": {
        "id": "SbMQSsOmTO9i"
      },
      "outputs": [],
      "source": [
        "# parse data from the html into a beautifulsoup object\n",
        "soup = BeautifulSoup(response.text, 'html.parser')\n",
        "singlesTable=soup.find_all('table',{'class':\"wikitable sortable plainrowheaders\"})\n",
        "# singlesTable"
      ]
    },
    {
      "cell_type": "code",
      "execution_count": 219,
      "metadata": {
        "colab": {
          "base_uri": "https://localhost:8080/"
        },
        "id": "lBtrl6f_n-VQ",
        "outputId": "91106bce-bd61-4899-f942-5d4fca5ea5cb"
      },
      "outputs": [
        {
          "output_type": "execute_result",
          "data": {
            "text/plain": [
              "[<span class=\"mw-headline\" id=\"Physical_singles\">Physical singles</span>,\n",
              " <span class=\"mw-headline\" id=\"Digital_singles\">Digital singles</span>,\n",
              " <span class=\"mw-headline\" id=\"11×_Platinum_or_higher\">11× Platinum or higher</span>,\n",
              " <span class=\"mw-headline\" id=\"Diamond_certification\">Diamond certification</span>,\n",
              " <span class=\"mw-headline\" id=\"9×_Platinum\">9× Platinum</span>,\n",
              " <span class=\"mw-headline\" id=\"8×_Platinum\">8× Platinum</span>,\n",
              " <span class=\"mw-headline\" id=\"7×_Platinum\">7× Platinum</span>,\n",
              " <span class=\"mw-headline\" id=\"6×_Platinum_or_more_than_6_million_in_sales\">6× Platinum or more than 6 million in sales</span>,\n",
              " <span class=\"mw-headline\" id=\"Achievements\">Achievements</span>,\n",
              " <span class=\"mw-headline\" id=\"See_also\">See also</span>,\n",
              " <span class=\"mw-headline\" id=\"Notes\">Notes</span>,\n",
              " <span class=\"mw-headline\" id=\"References\">References</span>,\n",
              " <span class=\"mw-headline\" id=\"External_links\">External links</span>]"
            ]
          },
          "metadata": {},
          "execution_count": 219
        }
      ],
      "source": [
        "# grab the tags with table titles using beautiful soup\n",
        "title_list = soup.find_all('span',{'class':\"mw-headline\"})\n",
        "title_list"
      ]
    },
    {
      "cell_type": "code",
      "execution_count": 220,
      "metadata": {
        "colab": {
          "base_uri": "https://localhost:8080/"
        },
        "id": "W3FgJ5BdXwjr",
        "outputId": "f96cfc1a-1b0a-4b4c-d1db-ab00e06d5712"
      },
      "outputs": [
        {
          "output_type": "stream",
          "name": "stdout",
          "text": [
            "Physical singles\n",
            "Digital singles\n",
            "11× Platinum or higher\n",
            "Diamond certification\n",
            "9× Platinum\n",
            "8× Platinum\n",
            "7× Platinum\n",
            "6× Platinum or more than 6 million in sales\n",
            "Achievements\n",
            "See also\n",
            "Notes\n",
            "References\n",
            "External links\n"
          ]
        }
      ],
      "source": [
        "# create clean list of table titles\n",
        "# *may not be leveraged\n",
        "for title in title_list:\n",
        "  title_clean = title.text\n",
        "  print(title_clean)"
      ]
    },
    {
      "cell_type": "code",
      "source": [
        "len(singlesTable)"
      ],
      "metadata": {
        "colab": {
          "base_uri": "https://localhost:8080/"
        },
        "id": "NTN5Wkuz4r_e",
        "outputId": "f2be496e-5072-4522-f7e7-1a078a062b24"
      },
      "execution_count": 221,
      "outputs": [
        {
          "output_type": "execute_result",
          "data": {
            "text/plain": [
              "7"
            ]
          },
          "metadata": {},
          "execution_count": 221
        }
      ]
    },
    {
      "cell_type": "code",
      "execution_count": 222,
      "metadata": {
        "colab": {
          "base_uri": "https://localhost:8080/"
        },
        "id": "UTHJzSqHiVhV",
        "outputId": "448a647f-35ef-4b70-df55-27f4e63415f9"
      },
      "outputs": [
        {
          "output_type": "stream",
          "name": "stdout",
          "text": [
            "                              song          artist  released actual_sales  \\\n",
            "0                  White Christmas     Bing Crosby      1941           25   \n",
            "1          Candle in the Wind 1997      Elton John      1997         8.84   \n",
            "2                 We Are the World  USA for Africa      1985            8   \n",
            "3  Rudolph, the Red-Nosed Reindeer      Gene Autry      1949            7   \n",
            "4                       Paper Doll  Mills Brothers      1943            6   \n",
            "\n",
            "  times_platinum  \n",
            "0             4×  \n",
            "1            11×  \n",
            "2             4×  \n",
            "3           None  \n",
            "4           None  \n",
            "                                          song             artist  released  \\\n",
            "50                                   Fuck Love       XXXTentacion      2018   \n",
            "51                                  Better Now        Post Malone      2018   \n",
            "52                                        Ride  Twenty One Pilots      2015   \n",
            "53                              No Role Modelz            J. Cole      2015   \n",
            "54  I Wanna Dance with Somebody (Who Loves Me)    Whitney Houston      1987   \n",
            "\n",
            "   actual_sales times_platinum  \n",
            "50            —             6×  \n",
            "51            —             6×  \n",
            "52            —             6x  \n",
            "53            —             6x  \n",
            "54            —             6x  \n",
            "Index(['song', 'artist', 'released', 'actual_sales', 'times_platinum'], dtype='object')\n"
          ]
        },
        {
          "output_type": "stream",
          "name": "stderr",
          "text": [
            "/usr/local/lib/python3.7/dist-packages/ipykernel_launcher.py:18: FutureWarning: The default value of regex will change from True to False in a future version.\n"
          ]
        }
      ],
      "source": [
        "# create a df from the album table\n",
        "# loop through, using range to limit observations to desired portions of url\n",
        "# use pd.concat to append df row to df\n",
        "df=pd.read_html(str(singlesTable))\n",
        "\n",
        "# create empty df to allow population in loop\n",
        "best_selling_singles_df = pd.DataFrame()\n",
        "\n",
        "for i in range(len(singlesTable)):\n",
        "  if i == 0:\n",
        "    df[i].rename({'No. of times Platinum[3]': 'times_platinum','Number of times Platinum[21]': 'times_platinum','Song': 'song', 'Release year': 'released', 'Artist(s)': 'artist', \"Claimed sales(million)[A]\": \"actual_sales\"}, axis=1, inplace=True)\n",
        "    best_selling_singles_df = df[i]\n",
        "  else:\n",
        "    df[i].rename({'No. of times Platinum[3]': 'times_platinum','Number of times Platinum[21]': 'times_platinum','Song': 'song','Releaseyear': 'released', 'Artist(s)': 'artist', \"Actual sales(million)\": \"actual_sales\", \"Actual sales\": \"actual_sales\"}, axis=1, inplace=True)\n",
        "    best_selling_singles_df = pd.concat([best_selling_singles_df, df[i]])\n",
        "    best_selling_singles_df[\"released\"] = best_selling_singles_df[\"released\"].astype(int)\n",
        "    best_selling_singles_df[\"song\"] = best_selling_singles_df[\"song\"].str.strip('\"') \n",
        "    best_selling_singles_df[\"actual_sales\"] = best_selling_singles_df[\"actual_sales\"].str.replace(r\"(\\s*\\[.*?\\]\\s*)\", \" \").str.strip()\n",
        "    \n",
        "print(best_selling_singles_df.head())\n",
        "print(best_selling_singles_df.tail())\n",
        "print(best_selling_singles_df.columns)"
      ]
    },
    {
      "cell_type": "code",
      "execution_count": 223,
      "metadata": {
        "colab": {
          "base_uri": "https://localhost:8080/"
        },
        "id": "emv7Au8c8xCW",
        "outputId": "6b140797-9665-4757-8615-f45936a9573c"
      },
      "outputs": [
        {
          "output_type": "execute_result",
          "data": {
            "text/plain": [
              "Index(['song', 'artist', 'released', 'actual_sales', 'times_platinum'], dtype='object')"
            ]
          },
          "metadata": {},
          "execution_count": 223
        }
      ],
      "source": [
        "# iterate through columns using map function to change values to lower case\n",
        "best_selling_singles_df.columns = map(str.lower, best_selling_singles_df.columns)\n",
        "best_selling_singles_df.columns"
      ]
    },
    {
      "cell_type": "code",
      "execution_count": 224,
      "metadata": {
        "id": "D1teUFlTBqVH",
        "colab": {
          "base_uri": "https://localhost:8080/"
        },
        "outputId": "8a73a9cd-f4c6-421e-daff-0b7d4445531c"
      },
      "outputs": [
        {
          "output_type": "stream",
          "name": "stdout",
          "text": [
            "DF shape: (217, 5)\n",
            "<class 'pandas.core.frame.DataFrame'>\n",
            "Int64Index: 217 entries, 0 to 54\n",
            "Data columns (total 5 columns):\n",
            " #   Column          Non-Null Count  Dtype \n",
            "---  ------          --------------  ----- \n",
            " 0   song            217 non-null    object\n",
            " 1   artist          217 non-null    object\n",
            " 2   released        217 non-null    int64 \n",
            " 3   actual_sales    217 non-null    object\n",
            " 4   times_platinum  217 non-null    object\n",
            "dtypes: int64(1), object(4)\n",
            "memory usage: 10.2+ KB\n",
            "DF columns: None\n"
          ]
        }
      ],
      "source": [
        "print(f\"DF shape: {best_selling_singles_df.shape}\")\n",
        "print(f\"DF columns: {best_selling_singles_df.info()}\")"
      ]
    },
    {
      "cell_type": "code",
      "source": [
        "# push to a csv\n",
        "best_selling_singles_df.to_csv('bestsellingsingles.csv', encoding='utf-8', index=False)"
      ],
      "metadata": {
        "id": "t0IAcGvB7dhP"
      },
      "execution_count": 225,
      "outputs": []
    },
    {
      "cell_type": "code",
      "source": [
        ""
      ],
      "metadata": {
        "id": "BhVtY6A9Dmpn"
      },
      "execution_count": null,
      "outputs": []
    }
  ],
  "metadata": {
    "colab": {
      "collapsed_sections": [],
      "name": "most_popular_singles.ipynb",
      "provenance": []
    },
    "kernelspec": {
      "display_name": "Python 3",
      "language": "python",
      "name": "python3"
    },
    "language_info": {
      "codemirror_mode": {
        "name": "ipython",
        "version": 3
      },
      "file_extension": ".py",
      "mimetype": "text/x-python",
      "name": "python",
      "nbconvert_exporter": "python",
      "pygments_lexer": "ipython3",
      "version": "3.7.6"
    },
    "varInspector": {
      "cols": {
        "lenName": 16,
        "lenType": 16,
        "lenVar": 40
      },
      "kernels_config": {
        "python": {
          "delete_cmd_postfix": "",
          "delete_cmd_prefix": "del ",
          "library": "var_list.py",
          "varRefreshCmd": "print(var_dic_list())"
        },
        "r": {
          "delete_cmd_postfix": ") ",
          "delete_cmd_prefix": "rm(",
          "library": "var_list.r",
          "varRefreshCmd": "cat(var_dic_list()) "
        }
      },
      "types_to_exclude": [
        "module",
        "function",
        "builtin_function_or_method",
        "instance",
        "_Feature"
      ],
      "window_display": false
    }
  },
  "nbformat": 4,
  "nbformat_minor": 0
}